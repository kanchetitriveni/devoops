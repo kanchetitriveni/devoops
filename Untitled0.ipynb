{
  "nbformat": 4,
  "nbformat_minor": 0,
  "metadata": {
    "colab": {
      "provenance": [],
      "authorship_tag": "ABX9TyOoubOlAnvudJM9yLUrL2tD",
      "include_colab_link": true
    },
    "kernelspec": {
      "name": "python3",
      "display_name": "Python 3"
    },
    "language_info": {
      "name": "python"
    }
  },
  "cells": [
    {
      "cell_type": "markdown",
      "metadata": {
        "id": "view-in-github",
        "colab_type": "text"
      },
      "source": [
        "<a href=\"https://colab.research.google.com/github/kanchetitriveni/devoops/blob/main/Untitled0.ipynb\" target=\"_parent\"><img src=\"https://colab.research.google.com/assets/colab-badge.svg\" alt=\"Open In Colab\"/></a>"
      ]
    },
    {
      "cell_type": "code",
      "execution_count": null,
      "metadata": {
        "id": "018lL5YKkLSO"
      },
      "outputs": [],
      "source": [
        "triveni"
      ]
    },
    {
      "cell_type": "markdown",
      "source": [
        "Triveni"
      ],
      "metadata": {
        "id": "D7RyDhJNlOKS"
      }
    }
  ]
}